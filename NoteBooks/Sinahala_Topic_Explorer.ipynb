{
  "nbformat": 4,
  "nbformat_minor": 0,
  "metadata": {
    "colab": {
      "provenance": [],
      "gpuType": "T4"
    },
    "kernelspec": {
      "name": "python3",
      "display_name": "Python 3"
    },
    "language_info": {
      "name": "python"
    },
    "accelerator": "GPU"
  },
  "cells": [
    {
      "cell_type": "code",
      "execution_count": 1,
      "metadata": {
        "colab": {
          "base_uri": "https://localhost:8080/"
        },
        "id": "IQzj28gm0kYk",
        "outputId": "38603e61-64f2-4fce-9a0c-522abde73578"
      },
      "outputs": [
        {
          "output_type": "stream",
          "name": "stdout",
          "text": [
            "Drive already mounted at /content/drive; to attempt to forcibly remount, call drive.mount(\"/content/drive\", force_remount=True).\n"
          ]
        }
      ],
      "source": [
        "from google.colab import drive\n",
        "drive.mount('/content/drive')\n"
      ]
    },
    {
      "cell_type": "code",
      "source": [
        "!pip install sinling gensim pyLDAvis pandas\n"
      ],
      "metadata": {
        "colab": {
          "base_uri": "https://localhost:8080/"
        },
        "id": "FKus220L1QWV",
        "outputId": "80ffa04b-76d4-491e-fcc6-1fe9a51cdcd6"
      },
      "execution_count": 2,
      "outputs": [
        {
          "output_type": "stream",
          "name": "stdout",
          "text": [
            "Requirement already satisfied: sinling in /usr/local/lib/python3.11/dist-packages (0.3.6)\n",
            "Requirement already satisfied: gensim in /usr/local/lib/python3.11/dist-packages (4.3.3)\n",
            "Requirement already satisfied: pyLDAvis in /usr/local/lib/python3.11/dist-packages (3.4.1)\n",
            "Requirement already satisfied: pandas in /usr/local/lib/python3.11/dist-packages (2.2.2)\n",
            "Requirement already satisfied: emoji in /usr/local/lib/python3.11/dist-packages (from sinling) (2.14.1)\n",
            "Requirement already satisfied: joblib in /usr/local/lib/python3.11/dist-packages (from sinling) (1.5.1)\n",
            "Requirement already satisfied: pygtrie in /usr/local/lib/python3.11/dist-packages (from sinling) (2.5.0)\n",
            "Requirement already satisfied: sklearn-crfsuite in /usr/local/lib/python3.11/dist-packages (from sinling) (0.5.0)\n",
            "Requirement already satisfied: nltk in /usr/local/lib/python3.11/dist-packages (from sinling) (3.9.1)\n",
            "Requirement already satisfied: numpy<2.0,>=1.18.5 in /usr/local/lib/python3.11/dist-packages (from gensim) (1.26.4)\n",
            "Requirement already satisfied: scipy<1.14.0,>=1.7.0 in /usr/local/lib/python3.11/dist-packages (from gensim) (1.13.1)\n",
            "Requirement already satisfied: smart-open>=1.8.1 in /usr/local/lib/python3.11/dist-packages (from gensim) (7.1.0)\n",
            "Requirement already satisfied: jinja2 in /usr/local/lib/python3.11/dist-packages (from pyLDAvis) (3.1.6)\n",
            "Requirement already satisfied: numexpr in /usr/local/lib/python3.11/dist-packages (from pyLDAvis) (2.10.2)\n",
            "Requirement already satisfied: funcy in /usr/local/lib/python3.11/dist-packages (from pyLDAvis) (2.0)\n",
            "Requirement already satisfied: scikit-learn>=1.0.0 in /usr/local/lib/python3.11/dist-packages (from pyLDAvis) (1.6.1)\n",
            "Requirement already satisfied: setuptools in /usr/local/lib/python3.11/dist-packages (from pyLDAvis) (75.2.0)\n",
            "Requirement already satisfied: python-dateutil>=2.8.2 in /usr/local/lib/python3.11/dist-packages (from pandas) (2.9.0.post0)\n",
            "Requirement already satisfied: pytz>=2020.1 in /usr/local/lib/python3.11/dist-packages (from pandas) (2025.2)\n",
            "Requirement already satisfied: tzdata>=2022.7 in /usr/local/lib/python3.11/dist-packages (from pandas) (2025.2)\n",
            "Requirement already satisfied: six>=1.5 in /usr/local/lib/python3.11/dist-packages (from python-dateutil>=2.8.2->pandas) (1.17.0)\n",
            "Requirement already satisfied: threadpoolctl>=3.1.0 in /usr/local/lib/python3.11/dist-packages (from scikit-learn>=1.0.0->pyLDAvis) (3.6.0)\n",
            "Requirement already satisfied: wrapt in /usr/local/lib/python3.11/dist-packages (from smart-open>=1.8.1->gensim) (1.17.2)\n",
            "Requirement already satisfied: MarkupSafe>=2.0 in /usr/local/lib/python3.11/dist-packages (from jinja2->pyLDAvis) (3.0.2)\n",
            "Requirement already satisfied: click in /usr/local/lib/python3.11/dist-packages (from nltk->sinling) (8.2.1)\n",
            "Requirement already satisfied: regex>=2021.8.3 in /usr/local/lib/python3.11/dist-packages (from nltk->sinling) (2024.11.6)\n",
            "Requirement already satisfied: tqdm in /usr/local/lib/python3.11/dist-packages (from nltk->sinling) (4.67.1)\n",
            "Requirement already satisfied: python-crfsuite>=0.9.7 in /usr/local/lib/python3.11/dist-packages (from sklearn-crfsuite->sinling) (0.9.11)\n",
            "Requirement already satisfied: tabulate>=0.4.2 in /usr/local/lib/python3.11/dist-packages (from sklearn-crfsuite->sinling) (0.9.0)\n"
          ]
        }
      ]
    },
    {
      "cell_type": "code",
      "source": [
        "import os\n",
        "import pandas as pd\n",
        "from sinling import SinhalaTokenizer, SinhalaStemmer\n",
        "from gensim import corpora\n",
        "from gensim.models import LdaModel\n",
        "import pyLDAvis.gensim_models as vis\n",
        "import pyLDAvis\n",
        "\n",
        "# Adjust these paths if your files live in a subfolder\n",
        "TRAIN_CSV = '/content/drive/MyDrive/NLP-Assignment/NSINA-Media-train.csv'\n",
        "TEST_CSV  = '/content/drive/MyDrive/NLP-Assignment/NSINA-Media-test.csv'\n"
      ],
      "metadata": {
        "id": "mOlb2yVN1gOg"
      },
      "execution_count": 3,
      "outputs": []
    },
    {
      "cell_type": "code",
      "source": [
        "df_train = pd.read_csv(TRAIN_CSV)\n",
        "df_test  = pd.read_csv(TEST_CSV)\n",
        "\n",
        "print(\"Train columns:\", df_train.columns)\n",
        "print(\"Test columns: \", df_test.columns)\n",
        "df_train.head()\n"
      ],
      "metadata": {
        "colab": {
          "base_uri": "https://localhost:8080/",
          "height": 241
        },
        "id": "XhmBzJCG1mQk",
        "outputId": "3b1b4c73-23d2-4679-d5d0-938111ce5fea"
      },
      "execution_count": 4,
      "outputs": [
        {
          "output_type": "stream",
          "name": "stdout",
          "text": [
            "Train columns: Index(['News Content', 'Source'], dtype='object')\n",
            "Test columns:  Index(['News Content', 'Source'], dtype='object')\n"
          ]
        },
        {
          "output_type": "execute_result",
          "data": {
            "text/plain": [
              "                                        News Content                   Source\n",
              "0  වැල්ලව, ලුණුකඩවැල්ල ප්‍රදේශයේදී ත්‍රීරෝද රථයක්...                Adaderana\n",
              "1  රුපියල් මිලියන 15 ක වියදමින් කෑගල්ල දිස්ත්‍රික...  https://sinhala.news.lk\n",
              "2  තාරුණ්‍යයට හෙටක් සංවිධානයේ මෙහෙයවීමෙන් ක්‍රියා...  https://sinhala.news.lk\n",
              "3  (ප්‍රසන්න පත්මසිරි)බිබිල මුදියල ගම්මානයේ, මාර්...        www.lankadeepa.lk\n",
              "4  මේ ව්‍යසනය ජනතාව කැඳවාගත් එකක් නෙවෙයි. මේ අමන,...               Lankatruth"
            ],
            "text/html": [
              "\n",
              "  <div id=\"df-0fff7281-48d4-46f1-ab2d-051bd56c9f32\" class=\"colab-df-container\">\n",
              "    <div>\n",
              "<style scoped>\n",
              "    .dataframe tbody tr th:only-of-type {\n",
              "        vertical-align: middle;\n",
              "    }\n",
              "\n",
              "    .dataframe tbody tr th {\n",
              "        vertical-align: top;\n",
              "    }\n",
              "\n",
              "    .dataframe thead th {\n",
              "        text-align: right;\n",
              "    }\n",
              "</style>\n",
              "<table border=\"1\" class=\"dataframe\">\n",
              "  <thead>\n",
              "    <tr style=\"text-align: right;\">\n",
              "      <th></th>\n",
              "      <th>News Content</th>\n",
              "      <th>Source</th>\n",
              "    </tr>\n",
              "  </thead>\n",
              "  <tbody>\n",
              "    <tr>\n",
              "      <th>0</th>\n",
              "      <td>වැල්ලව, ලුණුකඩවැල්ල ප්‍රදේශයේදී ත්‍රීරෝද රථයක්...</td>\n",
              "      <td>Adaderana</td>\n",
              "    </tr>\n",
              "    <tr>\n",
              "      <th>1</th>\n",
              "      <td>රුපියල් මිලියන 15 ක වියදමින් කෑගල්ල දිස්ත්‍රික...</td>\n",
              "      <td>https://sinhala.news.lk</td>\n",
              "    </tr>\n",
              "    <tr>\n",
              "      <th>2</th>\n",
              "      <td>තාරුණ්‍යයට හෙටක් සංවිධානයේ මෙහෙයවීමෙන් ක්‍රියා...</td>\n",
              "      <td>https://sinhala.news.lk</td>\n",
              "    </tr>\n",
              "    <tr>\n",
              "      <th>3</th>\n",
              "      <td>(ප්‍රසන්න පත්මසිරි)බිබිල මුදියල ගම්මානයේ, මාර්...</td>\n",
              "      <td>www.lankadeepa.lk</td>\n",
              "    </tr>\n",
              "    <tr>\n",
              "      <th>4</th>\n",
              "      <td>මේ ව්‍යසනය ජනතාව කැඳවාගත් එකක් නෙවෙයි. මේ අමන,...</td>\n",
              "      <td>Lankatruth</td>\n",
              "    </tr>\n",
              "  </tbody>\n",
              "</table>\n",
              "</div>\n",
              "    <div class=\"colab-df-buttons\">\n",
              "\n",
              "  <div class=\"colab-df-container\">\n",
              "    <button class=\"colab-df-convert\" onclick=\"convertToInteractive('df-0fff7281-48d4-46f1-ab2d-051bd56c9f32')\"\n",
              "            title=\"Convert this dataframe to an interactive table.\"\n",
              "            style=\"display:none;\">\n",
              "\n",
              "  <svg xmlns=\"http://www.w3.org/2000/svg\" height=\"24px\" viewBox=\"0 -960 960 960\">\n",
              "    <path d=\"M120-120v-720h720v720H120Zm60-500h600v-160H180v160Zm220 220h160v-160H400v160Zm0 220h160v-160H400v160ZM180-400h160v-160H180v160Zm440 0h160v-160H620v160ZM180-180h160v-160H180v160Zm440 0h160v-160H620v160Z\"/>\n",
              "  </svg>\n",
              "    </button>\n",
              "\n",
              "  <style>\n",
              "    .colab-df-container {\n",
              "      display:flex;\n",
              "      gap: 12px;\n",
              "    }\n",
              "\n",
              "    .colab-df-convert {\n",
              "      background-color: #E8F0FE;\n",
              "      border: none;\n",
              "      border-radius: 50%;\n",
              "      cursor: pointer;\n",
              "      display: none;\n",
              "      fill: #1967D2;\n",
              "      height: 32px;\n",
              "      padding: 0 0 0 0;\n",
              "      width: 32px;\n",
              "    }\n",
              "\n",
              "    .colab-df-convert:hover {\n",
              "      background-color: #E2EBFA;\n",
              "      box-shadow: 0px 1px 2px rgba(60, 64, 67, 0.3), 0px 1px 3px 1px rgba(60, 64, 67, 0.15);\n",
              "      fill: #174EA6;\n",
              "    }\n",
              "\n",
              "    .colab-df-buttons div {\n",
              "      margin-bottom: 4px;\n",
              "    }\n",
              "\n",
              "    [theme=dark] .colab-df-convert {\n",
              "      background-color: #3B4455;\n",
              "      fill: #D2E3FC;\n",
              "    }\n",
              "\n",
              "    [theme=dark] .colab-df-convert:hover {\n",
              "      background-color: #434B5C;\n",
              "      box-shadow: 0px 1px 3px 1px rgba(0, 0, 0, 0.15);\n",
              "      filter: drop-shadow(0px 1px 2px rgba(0, 0, 0, 0.3));\n",
              "      fill: #FFFFFF;\n",
              "    }\n",
              "  </style>\n",
              "\n",
              "    <script>\n",
              "      const buttonEl =\n",
              "        document.querySelector('#df-0fff7281-48d4-46f1-ab2d-051bd56c9f32 button.colab-df-convert');\n",
              "      buttonEl.style.display =\n",
              "        google.colab.kernel.accessAllowed ? 'block' : 'none';\n",
              "\n",
              "      async function convertToInteractive(key) {\n",
              "        const element = document.querySelector('#df-0fff7281-48d4-46f1-ab2d-051bd56c9f32');\n",
              "        const dataTable =\n",
              "          await google.colab.kernel.invokeFunction('convertToInteractive',\n",
              "                                                    [key], {});\n",
              "        if (!dataTable) return;\n",
              "\n",
              "        const docLinkHtml = 'Like what you see? Visit the ' +\n",
              "          '<a target=\"_blank\" href=https://colab.research.google.com/notebooks/data_table.ipynb>data table notebook</a>'\n",
              "          + ' to learn more about interactive tables.';\n",
              "        element.innerHTML = '';\n",
              "        dataTable['output_type'] = 'display_data';\n",
              "        await google.colab.output.renderOutput(dataTable, element);\n",
              "        const docLink = document.createElement('div');\n",
              "        docLink.innerHTML = docLinkHtml;\n",
              "        element.appendChild(docLink);\n",
              "      }\n",
              "    </script>\n",
              "  </div>\n",
              "\n",
              "\n",
              "    <div id=\"df-49c956f1-c100-4b17-b94f-43c95da97c5f\">\n",
              "      <button class=\"colab-df-quickchart\" onclick=\"quickchart('df-49c956f1-c100-4b17-b94f-43c95da97c5f')\"\n",
              "                title=\"Suggest charts\"\n",
              "                style=\"display:none;\">\n",
              "\n",
              "<svg xmlns=\"http://www.w3.org/2000/svg\" height=\"24px\"viewBox=\"0 0 24 24\"\n",
              "     width=\"24px\">\n",
              "    <g>\n",
              "        <path d=\"M19 3H5c-1.1 0-2 .9-2 2v14c0 1.1.9 2 2 2h14c1.1 0 2-.9 2-2V5c0-1.1-.9-2-2-2zM9 17H7v-7h2v7zm4 0h-2V7h2v10zm4 0h-2v-4h2v4z\"/>\n",
              "    </g>\n",
              "</svg>\n",
              "      </button>\n",
              "\n",
              "<style>\n",
              "  .colab-df-quickchart {\n",
              "      --bg-color: #E8F0FE;\n",
              "      --fill-color: #1967D2;\n",
              "      --hover-bg-color: #E2EBFA;\n",
              "      --hover-fill-color: #174EA6;\n",
              "      --disabled-fill-color: #AAA;\n",
              "      --disabled-bg-color: #DDD;\n",
              "  }\n",
              "\n",
              "  [theme=dark] .colab-df-quickchart {\n",
              "      --bg-color: #3B4455;\n",
              "      --fill-color: #D2E3FC;\n",
              "      --hover-bg-color: #434B5C;\n",
              "      --hover-fill-color: #FFFFFF;\n",
              "      --disabled-bg-color: #3B4455;\n",
              "      --disabled-fill-color: #666;\n",
              "  }\n",
              "\n",
              "  .colab-df-quickchart {\n",
              "    background-color: var(--bg-color);\n",
              "    border: none;\n",
              "    border-radius: 50%;\n",
              "    cursor: pointer;\n",
              "    display: none;\n",
              "    fill: var(--fill-color);\n",
              "    height: 32px;\n",
              "    padding: 0;\n",
              "    width: 32px;\n",
              "  }\n",
              "\n",
              "  .colab-df-quickchart:hover {\n",
              "    background-color: var(--hover-bg-color);\n",
              "    box-shadow: 0 1px 2px rgba(60, 64, 67, 0.3), 0 1px 3px 1px rgba(60, 64, 67, 0.15);\n",
              "    fill: var(--button-hover-fill-color);\n",
              "  }\n",
              "\n",
              "  .colab-df-quickchart-complete:disabled,\n",
              "  .colab-df-quickchart-complete:disabled:hover {\n",
              "    background-color: var(--disabled-bg-color);\n",
              "    fill: var(--disabled-fill-color);\n",
              "    box-shadow: none;\n",
              "  }\n",
              "\n",
              "  .colab-df-spinner {\n",
              "    border: 2px solid var(--fill-color);\n",
              "    border-color: transparent;\n",
              "    border-bottom-color: var(--fill-color);\n",
              "    animation:\n",
              "      spin 1s steps(1) infinite;\n",
              "  }\n",
              "\n",
              "  @keyframes spin {\n",
              "    0% {\n",
              "      border-color: transparent;\n",
              "      border-bottom-color: var(--fill-color);\n",
              "      border-left-color: var(--fill-color);\n",
              "    }\n",
              "    20% {\n",
              "      border-color: transparent;\n",
              "      border-left-color: var(--fill-color);\n",
              "      border-top-color: var(--fill-color);\n",
              "    }\n",
              "    30% {\n",
              "      border-color: transparent;\n",
              "      border-left-color: var(--fill-color);\n",
              "      border-top-color: var(--fill-color);\n",
              "      border-right-color: var(--fill-color);\n",
              "    }\n",
              "    40% {\n",
              "      border-color: transparent;\n",
              "      border-right-color: var(--fill-color);\n",
              "      border-top-color: var(--fill-color);\n",
              "    }\n",
              "    60% {\n",
              "      border-color: transparent;\n",
              "      border-right-color: var(--fill-color);\n",
              "    }\n",
              "    80% {\n",
              "      border-color: transparent;\n",
              "      border-right-color: var(--fill-color);\n",
              "      border-bottom-color: var(--fill-color);\n",
              "    }\n",
              "    90% {\n",
              "      border-color: transparent;\n",
              "      border-bottom-color: var(--fill-color);\n",
              "    }\n",
              "  }\n",
              "</style>\n",
              "\n",
              "      <script>\n",
              "        async function quickchart(key) {\n",
              "          const quickchartButtonEl =\n",
              "            document.querySelector('#' + key + ' button');\n",
              "          quickchartButtonEl.disabled = true;  // To prevent multiple clicks.\n",
              "          quickchartButtonEl.classList.add('colab-df-spinner');\n",
              "          try {\n",
              "            const charts = await google.colab.kernel.invokeFunction(\n",
              "                'suggestCharts', [key], {});\n",
              "          } catch (error) {\n",
              "            console.error('Error during call to suggestCharts:', error);\n",
              "          }\n",
              "          quickchartButtonEl.classList.remove('colab-df-spinner');\n",
              "          quickchartButtonEl.classList.add('colab-df-quickchart-complete');\n",
              "        }\n",
              "        (() => {\n",
              "          let quickchartButtonEl =\n",
              "            document.querySelector('#df-49c956f1-c100-4b17-b94f-43c95da97c5f button');\n",
              "          quickchartButtonEl.style.display =\n",
              "            google.colab.kernel.accessAllowed ? 'block' : 'none';\n",
              "        })();\n",
              "      </script>\n",
              "    </div>\n",
              "\n",
              "    </div>\n",
              "  </div>\n"
            ],
            "application/vnd.google.colaboratory.intrinsic+json": {
              "type": "dataframe",
              "variable_name": "df_train",
              "summary": "{\n  \"name\": \"df_train\",\n  \"rows\": 72753,\n  \"fields\": [\n    {\n      \"column\": \"News Content\",\n      \"properties\": {\n        \"dtype\": \"string\",\n        \"num_unique_values\": 68776,\n        \"samples\": [\n          \"\\u0db4\\u0dc0\\u0dad\\u0dd2\\u0db1 \\u0db4\\u0dcf\\u0dc3\\u0dbd\\u0dca \\u0db1\\u0dd2\\u0dc0\\u0dcf\\u0da9\\u0dd4\\u0dc0 \\u0db8\\u0dd4\\u0dbd\\u0dca \\u0d9a\\u0dbb\\u0d9c\\u0dd9\\u0db1 \\u0d93\\u0dad\\u0dd2\\u0dc4\\u0dcf\\u0dc3\\u0dd2\\u0d9a \\u0dbb\\u0dd4\\u0dc4\\u0dd4\\u0dab\\u0dd4 \\u0db8\\u0dc4\\u0dcf \\u0d9a\\u0dad\\u0dbb\\u0d9c\\u0db8 \\u0db4\\u0dd4\\u0daf\\u0db6\\u0dd2\\u0db8 \\u0dc0\\u0dd9\\u0dad \\u0db8\\u0dda \\u0daf\\u0dd2\\u0db1 \\u0dc0\\u0dbd \\u0db6\\u0dd0\\u0dad\\u0dd2\\u0db8\\u0dad\\u0dd4\\u0db1\\u0dca \\u0dc0\\u0dd2\\u0dc1\\u0dcf\\u0dbd \\u0db4\\u0dd2\\u0dbb\\u0dd2\\u0dc3\\u0d9a\\u0dca \\u0db4\\u0dd0\\u0db8\\u0dd2\\u0dab\\u0dd9\\u0db8\\u0dd2\\u0db1\\u0dca \\u0dc3\\u0dd2\\u0da7\\u0dd2\\u0dad\\u0dd2.\\n\\n\\u0dc0\\u0dd2\\u0dc0\\u0dd2\\u0db0 \\u0dc0\\u0dd6 \\u0db6\\u0dcf\\u0dbb\\u0dc4\\u0dcf\\u0dbb \\u0d94\\u0db4\\u0dca\\u0db4\\u0dd4 \\u0dc3\\u0dd2\\u0daf\\u0dca\\u0db0 \\u0d9a\\u0dbb \\u0d9a\\u0dcf\\u0dc0\\u0dcf\\u0da9\\u0dd2 \\u0db1\\u0da7\\u0db8\\u0dd2\\u0db1\\u0dca \\u0daf\\u0dd9\\u0dc0\\u0dd2\\u0dba\\u0db1\\u0dca \\u0d9c\\u0dda \\u0d86\\u0dc1\\u0dd2\\u0dbb\\u0dca\\u0dc0\\u0dcf\\u0daf \\u0db4\\u0dca\\u200d\\u0dbb\\u0dbb\\u0dca\\u0dae\\u0db1\\u0dcf \\u0d9a\\u0dbb \\u0d9c\\u0dd0\\u0db1\\u0dd3\\u0db8\\u0da7 \\u0db8\\u0dd9\\u0db8 \\u0db4\\u0dd2\\u0dbb\\u0dd2\\u0dc3 \\u0d9a\\u0dca\\u200d\\u0dbb\\u0dd2\\u0dba\\u0dcf \\u0d9a\\u0dbb\\u0db8\\u0dd2\\u0db1\\u0dca \\u0db4\\u0dc3\\u0dd4\\u0dc0\\u0dd9\\u0dad\\u0dd2. \\u0d89\\u0daf\\u0dd2\\u0dbb\\u0dd2\\u0dba\\u0da7 \\u0d87\\u0dad\\u0dd2 \\u0d9a\\u0dd9\\u0da7\\u0dd2 \\u0db4\\u0dcf\\u0dc3\\u0dbd\\u0dca \\u0db1\\u0dd2\\u0dc0\\u0dcf\\u0da9\\u0dd4\\u0dc0 \\u0db8\\u0dad \\u0dc3\\u0dc4 \\u0dc0\\u0dcf\\u0dbb\\u0dca\\u0dc2 \\u0d85\\u0dc0\\u0dc3\\u0dcf\\u0db1\\u0dba \\u0db8\\u0dd4\\u0dbd\\u0dca \\u0d9a\\u0dbb \\u0d9c\\u0dd9\\u0db1 2023 \\u0dc0\\u0dbb\\u0dca\\u0dc2\\u0dba \\u0dc0\\u0dd9\\u0db1\\u0dd4\\u0dc0\\u0dd9\\u0db1\\u0dca \\u0d9a\\u0dd2\\u0dbb\\u0dd2\\u0dc0\\u0dd9\\u0dc4\\u0dd9\\u0dbb \\u0dc0\\u0dd0\\u0daf \\u0db4\\u0dd4\\u0daf\\u0dcf \\u0d9c\\u0dd0\\u0db1\\u0dd3\\u0db8\\u0da7 \\u0dc3\\u0db3\\u0dc4\\u0dcf \\u0db6\\u0dd0\\u0dad\\u0dd2\\u0db8\\u0dad\\u0dd4\\u0db1\\u0dca \\u0d9a\\u0dbd\\u0dca\\u0dad\\u0dd2\\u0dba\\u0dcf \\u0db1\\u0dc0\\u0dcf\\u0dad\\u0dd0\\u0db1\\u0dca \\u0db4\\u0ddc\\u0dc5\\u0dc0\\u0dbd\\u0dca \\u0dc0\\u0dd9\\u0db1\\u0dca \\u0d9a\\u0dbb \\u0d87\\u0dad\\u0dd2 \\u0db6\\u0dc0 \\u0dc0\\u0dd2\\u0dc1\\u0dca\\u200d\\u0dbb\\u0dcf\\u0db8 \\u0dc1\\u0dcf\\u0dbd\\u0dcf \\u0dc4\\u0dd2\\u0db8\\u0dd2\\u0dba\\u0ddd \\u0db4\\u0dc0\\u0dc3\\u0dad\\u0dd2.\\n\\n\\u0d9a\\u0dad\\u0dbb\\u0d9c\\u0db8 \\u2013 \\u0dc3\\u0dc4\\u0db1\\u0dca \\u0daf\\u0dda\\u0dc0\\u0db4\\u0dca\\u200d\\u0dbb\\u0dd2\\u0dba\",\n          \"2022 \\u0dc0\\u0dc3\\u0dbb\\u0dda \\u0db4\\u0dd0\\u0dc0\\u0dd0\\u0dad\\u0dca\\u0dc0\\u0dd9\\u0db1 \\u0dbd\\u0ddd\\u0d9a \\u0d9a\\u0dd4\\u0dc3\\u0dbd\\u0dcf\\u0db1 \\u0db4\\u0dcf\\u0db4\\u0db1\\u0dca\\u0daf\\u0dd4 \\u0dad\\u0dbb\\u0d9c\\u0dcf\\u0dc0\\u0dbd\\u0dd2\\u0dba\\u0dda \\u0dc3\\u0dad\\u0dca\\u0d9a\\u0dcf\\u0dbb\\u0d9a\\u0dad\\u0dca\\u0dc0\\u0dba \\u0d9a\\u0da7\\u0dcf\\u0dbb\\u0dca \\u0dbb\\u0dcf\\u0da2\\u0dca\\u200d\\u0dba\\u0dba\\u0da7 \\u0db4\\u0dd2\\u0dbb\\u0dd2\\u0db1\\u0dd0\\u0db8\\u0dd3\\u0db8\\u0dda\\u0daf\\u0dd3 \\u0dc3\\u0dd2\\u0daf\\u0dd4\\u0dc0\\u0dd3 \\u0d87\\u0dad\\u0dd2 \\u0d85\\u0d9a\\u0dca\\u200d\\u0dbb\\u0db8\\u0dd2\\u0d9a\\u0dad\\u0dcf \\u0dc3\\u0db8\\u0dca\\u0db6\\u0db1\\u0dca\\u0db0\\u0dba\\u0dd9\\u0db1\\u0dca \\u0dba\\u0dd4\\u0dbb\\u0ddd\\u0db4\\u0dcf \\u0db4\\u0dcf\\u0db4\\u0db1\\u0dca\\u0daf\\u0dd4 \\u0dc3\\u0db8\\u0dca\\u0db8\\u0dda\\u0dbd\\u0db1\\u0dba\\u0dda \\u0dc4\\u0dd2\\u0da7\\u0db4\\u0dd4 \\u0dc3\\u0db7\\u0dcf\\u0db4\\u0dad\\u0dd2 \\u0db8\\u0dd2\\u0da0\\u0dd9\\u0dbd\\u0dca \\u0db4\\u0dca\\u0dbd\\u0dd0\\u0da7\\u0dd2\\u0db1\\u0ddd \\u0db4\\u0dca\\u200d\\u0dbb\\u0d82\\u0dc1 \\u0daf\\u0dd6\\u0dc2\\u0dab \\u0dc0\\u0dd2\\u0db8\\u0dbb\\u0dca\\u0dc1\\u0d9a\\u0dba\\u0dd2\\u0db1\\u0dca \\u0dc0\\u0dd2\\u0dc3\\u0dd2\\u0db1\\u0dca \\u0d85\\u0dad\\u0dca\\u0d85\\u0da9\\u0d82\\u0d9c\\u0dd4\\u0dc0\\u0da7 \\u0d9c\\u0dd9\\u0db1 \\u0dad\\u0dd2\\u0db6\\u0dd9\\u0db1\\u0dc0\\u0dcf.\\n\\u0d9a\\u0da7\\u0dcf\\u0dbb\\u0dba, 2022 \\u0dc0\\u0dc3\\u0dbb\\u0dda\\u0daf\\u0dd3 \\u0dbd\\u0ddd\\u0d9a \\u0d9a\\u0dd4\\u0dc3\\u0dbd\\u0dcf\\u0db1 \\u0dad\\u0dbb\\u0d9c\\u0dcf\\u0dc0\\u0dbd\\u0dd2\\u0dba\\u0dda \\u0dc3\\u0dad\\u0dca\\u0d9a\\u0dcf\\u0dbb\\u0d9a\\u0dad\\u0dca\\u0dc0\\u0dba, 2010 \\u0dc0\\u0dc3\\u0dbb\\u0dda\\u0daf\\u0dd3 \\u0daf\\u0dd2\\u0db1\\u0dcf\\u0d9c\\u0db1\\u0dd4 \\u0dbd\\u0dd0\\u0db6\\u0dd4\\u0dc0\\u0dda \\u0d91\\u0d9a\\u0dca\\u0dc3\\u0dad\\u0dca \\u0d85\\u0dbb\\u0dcf\\u0db6\\u0dd2 \\u0d91\\u0db8\\u0dd3\\u0dbb\\u0dca \\u0dbb\\u0dcf\\u0da2\\u0dca\\u200d\\u0dba\\u0dba, \\u0d94\\u0dc3\\u0dca\\u0da7\\u0dca\\u200d\\u0dbb\\u0dda\\u0dbd\\u0dd2\\u0dba\\u0dcf\\u0dc0, \\u0daf\\u0d9a\\u0dd4\\u0dab\\u0dd4 \\u0d9a\\u0ddc\\u0dbb\\u0dd2\\u0dba\\u0dcf\\u0dc0 \\u0dc3\\u0dc4 \\u0da2\\u0db4\\u0dcf\\u0db1\\u0dba \\u0db4\\u0dbb\\u0dcf\\u0da2\\u0dba\\u0da7 \\u0db4\\u0dad\\u0dca \\u0d9a\\u0dbb\\u0db8\\u0dd2\\u0db1\\u0dca.\",\n          \"\\u0d8b\\u0db4\\u0db1\\u0dca \\u0daf\\u0dd2\\u0db1 \\u0dc3\\u0dcf\\u0daf\\u0dba\\u0d9a\\u0dca \\u0db4\\u0dd0\\u0dc0\\u0dd0\\u0dad\\u0dca\\u0dc0\\u0dd3\\u0db8\\u0da7 \\u0db8\\u0da9\\u0ddc\\u0dbd\\u0dca\\u0dc3\\u0dd2\\u0db8 \\u0db4\\u0dd4\\u0d82\\u0da0\\u0dd2 \\u0dbd\\u0ddd\\u0d9a\\u0dcf\\u0db1\\u0dca\\u0dad\\u0dba\\u0da7 \\u0d86\\u0dc3\\u0db1\\u0dca\\u0db1\\u0dba\\u0dda \\u0db4\\u0dd2\\u0dc4\\u0dd2\\u0da7\\u0dd2 \\u0dbb\\u0dcf\\u0d9c\\u0dbd \\u0dc3\\u0dcf\\u0db1\\u0dd4\\u0dc0\\u0da7 \\u0db4\\u0dd9\\u0dbb\\u0dda\\u0daf\\u0dcf (23) \\u0db4\\u0dc3\\u0dca\\u0dc0\\u0dbb\\u0dd4\\u0dc0\\u0dda \\u0d9c\\u0dd2\\u0dba \\u0dad\\u0dbb\\u0dd4\\u0dab\\u0dba\\u0dd2\\u0db1\\u0dca \\u0db4\\u0dd2\\u0dbb\\u0dd2\\u0dc3\\u0d9a\\u0dca \\u0d85\\u0dad\\u0dd4\\u0dbb\\u0dd2\\u0db1\\u0dca \\u0daf\\u0dd9\\u0daf\\u0dd9\\u0db1\\u0d9a\\u0dd4 \\u0d91\\u0dc4\\u0dd2 \\u0db4\\u0dca\\u200d\\u0dbb\\u0db4\\u0dcf\\u0dad\\u0dba\\u0d9a\\u0da7 \\u0d87\\u0daf \\u0dc0\\u0dd0\\u0da7\\u0dd3\\u0db8\\u0dd9\\u0db1\\u0dca \\u0db6\\u0dbb\\u0db4\\u0dad\\u0dc5 \\u0dad\\u0dd4\\u0dc0\\u0dcf\\u0dbd \\u0dbd\\u0db6\\u0dcf \\u0db4\\u0dca\\u200d\\u0dbb\\u0dad\\u0dd2\\u0d9a\\u0dcf\\u0dbb \\u0dc3\\u0db3\\u0dc4\\u0dcf \\u0db6\\u0daf\\u0dd4\\u0dbd\\u0dca\\u0dbd \\u0dc1\\u0dd2\\u0d9a\\u0dca\\u0dc2\\u0dab \\u0dbb\\u0ddd\\u0dc4\\u0dbd\\u0da7 \\u0d87\\u0dad\\u0dd4\\u0dc5\\u0dad\\u0dca \\u0d9a\\u0dbb \\u0d87\\u0dad\\u0dd2 \\u0db6\\u0dc0 \\u0db8\\u0da9\\u0ddc\\u0dbd\\u0dca\\u0dc3\\u0dd2\\u0db8 \\u0db4\\u0ddc\\u0dbd\\u0dd2\\u0dc3\\u0dd2\\u0dba \\u0db4\\u0dc0\\u0dc3\\u0dba\\u0dd2.\\n\\n\\u0db8\\u0dd9\\u0db8 \\u0d85\\u0db1\\u0dad\\u0dd4\\u0dbb\\u0dd2\\u0db1\\u0dca \\u0dad\\u0dd4\\u0dc0\\u0dcf\\u0dbd \\u0dbd\\u0db6\\u0dcf \\u0d87\\u0dad\\u0dca\\u0dad\\u0dda 25 \\u0dc4\\u0dd0\\u0dc0\\u0dd2\\u0dbb\\u0dd2\\u0daf\\u0dd2 \\u0db4\\u0dc3\\u0dca\\u0dc3\\u0dbb \\u0db4\\u0dca\\u200d\\u0dbb\\u0daf\\u0dda\\u0dc1\\u0dba\\u0dda \\u0db4\\u0daf\\u0dd2\\u0d82\\u0da0\\u0dd2 \\u0dad\\u0dbb\\u0dab\\u0dba\\u0db1\\u0dca \\u0daf\\u0dd9\\u0daf\\u0dd9\\u0db1\\u0dd9\\u0d9a\\u0dd2. \\u0d85\\u0db1\\u0dad\\u0dd4\\u0dbb\\u0da7 \\u0db4\\u0dad\\u0dca \\u0dad\\u0dbb\\u0dd4\\u0dab\\u0dba\\u0dd2\\u0db1\\u0dca \\u0daf\\u0dd9\\u0daf\\u0dd9\\u0db1\\u0dcf\\u0d9c\\u0dd9\\u0db1\\u0dca \\u0d91\\u0d9a\\u0dca \\u0d85\\u0dba\\u0d9a\\u0dd4\\u0d9c\\u0dda 25 \\u0dc0\\u0db1 \\u0d8b\\u0db4\\u0db1\\u0dca \\u0daf\\u0dd2\\u0db1\\u0dba \\u0db4\\u0dd9\\u0dbb\\u0dda\\u0daf\\u0dcf (23) \\u0daf\\u0dd2\\u0db1\\u0da7 \\u0dba\\u0dd9\\u0daf\\u0dd3 \\u0dad\\u0dd2\\u0db6\\u0dd6 \\u0db6\\u0dd0\\u0dc0\\u0dd2\\u0db1\\u0dca \\u0d94\\u0dc4\\u0dd4 \\u0dad\\u0dc0\\u0dad\\u0dca \\u0db8\\u0dd2\\u0dad\\u0dd4\\u0dbb\\u0db1\\u0dca \\u0dc4\\u0dad\\u0dbb \\u0daf\\u0dd9\\u0db1\\u0d9a\\u0dd4 \\u0dc3\\u0db8\\u0d9f \\u0d91\\u0dba \\u0dc3\\u0dd0\\u0db8\\u0dbb\\u0dd3\\u0db8 \\u0dc3\\u0db3\\u0dc4\\u0dcf \\u0db4\\u0dd4\\u0d82\\u0da0\\u0dd2 \\u0dbd\\u0ddd\\u0d9a\\u0dcf\\u0db1\\u0dca\\u0dad\\u0dba\\u0da7 \\u0db4\\u0dc4\\u0dc5\\u0dd2\\u0db1\\u0dca \\u0db4\\u0dd2\\u0dc4\\u0dd2\\u0da7\\u0dd2 \\u0dbb\\u0dcf\\u0d9c\\u0dbd \\u0dc3\\u0dcf\\u0db1\\u0dd4\\u0dc0 \\u0db1\\u0dd0\\u0db8\\u0dd0\\u0dad\\u0dd2 \\u0dc3\\u0dca\\u0dae\\u0dcf\\u0db1\\u0dba \\u0dc0\\u0dd9\\u0dad \\u0d9c\\u0ddc\\u0dc3\\u0dca \\u0d91\\u0dc4\\u0dd2 \\u0db8\\u0dad\\u0dca\\u0db4\\u0dd0\\u0db1\\u0dca \\u0db4\\u0dcf\\u0db1\\u0dba \\u0d9a\\u0dbb\\u0db8\\u0dd2\\u0db1\\u0dca \\u0dc3\\u0dd2\\u0da7\\u0dd2\\u0dba\\u0daf\\u0dd3 \\u0d8b\\u0db4\\u0db1\\u0dca \\u0daf\\u0dd2\\u0db1\\u0dba \\u0dba\\u0dd9\\u0daf\\u0dd3 \\u0dad\\u0dd2\\u0db6\\u0dd6 \\u0dad\\u0dbb\\u0dd4\\u0dab\\u0dba\\u0dcf \\u0d9c\\u0dbd\\u0d9a\\u0dd2\\u0db1\\u0dca \\u0db4\\u0dc4\\u0dc5\\u0da7 \\u0dbd\\u0dd2\\u0dc3\\u0dca\\u0dc3\\u0dcf \\u0dba\\u0dcf\\u0db8\\u0dd9\\u0db1\\u0dca \\u0db4\\u0dca\\u200d\\u0dbb\\u0db4\\u0dcf\\u0dad\\u0dba\\u0da7 \\u0dc0\\u0dd0\\u0da7\\u0dd3 \\u0d87\\u0dad\\u0dd2 \\u0d85\\u0dad\\u0dbb, \\u0d94\\u0dc4\\u0dd4 \\u0db6\\u0dda\\u0dbb\\u0dcf \\u0d9c\\u0dd0\\u0db1\\u0dd3\\u0db8\\u0da7 \\u0d9c\\u0dd2\\u0dba \\u0dad\\u0dc0\\u0dad\\u0dca \\u0dad\\u0dbb\\u0dd4\\u0dab\\u0dba\\u0dd9\\u0d9a\\u0dca \\u0daf \\u0d92 \\u0dc3\\u0db8\\u0d9f \\u0db4\\u0dca\\u200d\\u0dbb\\u0db4\\u0dcf\\u0dad\\u0dba\\u0da7 \\u0d87\\u0daf \\u0dc0\\u0dd0\\u0da7\\u0dd3 \\u0db8\\u0ddc\\u0dc0\\u0dd4\\u0db1\\u0dca \\u0daf\\u0dd9\\u0daf\\u0dd9\\u0db1\\u0dcf\\u0da7\\u0db8 \\u0dad\\u0dd4\\u0dc0\\u0dcf\\u0dbd \\u0dc3\\u0dd2\\u0daf\\u0dd4\\u0dc0 \\u0d87\\u0dad\\u0dd2 \\u0db6\\u0dc0\\u0da7 \\u0dc0\\u0dcf\\u0dbb\\u0dca\\u0dad\\u0dcf \\u0dc0\\u0dd6 \\u0db6\\u0dc0\\u0dad\\u0dca \\u0db4\\u0ddc\\u0dbd\\u0dd2\\u0dc3\\u0dd2\\u0dba \\u0db4\\u0dd0\\u0dc0\\u0dc3\\u0dd3\\u0dba.\\n\\n\\u0d85\\u0db1\\u0dad\\u0dd4\\u0dbb\\u0dd4\\u0dc0 \\u0db8\\u0ddc\\u0dc0\\u0dd4\\u0db1\\u0dca \\u0db4\\u0dca\\u200d\\u0dbb\\u0dad\\u0dd2\\u0d9a\\u0dcf\\u0dbb \\u0dc3\\u0db3\\u0dc4\\u0dcf \\u0db6\\u0daf\\u0dd4\\u0dbd\\u0dca\\u0dbd \\u0dc1\\u0dd2\\u0d9a\\u0dca\\u0dc2\\u0dab \\u0dbb\\u0ddd\\u0dc4\\u0dbd\\u0da7 \\u0dbb\\u0dd0\\u0d9c\\u0dd9\\u0db1 \\u0dc0\\u0dd2\\u0dad\\u0dca \\u0d87\\u0dad\\u0dd2 \\u0db6\\u0dc0\\u0dad\\u0dca \\u0db4\\u0ddc\\u0dbd\\u0dd2\\u0dc3\\u0dd2\\u0dba \\u0db4\\u0dd0\\u0dc0\\u0dc3\\u0dd3\\u0dba.\\n\\n\\u0db8\\u0dda \\u0db4\\u0dd2\\u0dc5\\u0dd2\\u0db6\\u0db3\\u0dc0 \\u0db6\\u0daf\\u0dd4\\u0dbd\\u0dca\\u0dbd \\u0dc1\\u0dd2\\u0d9a\\u0dca\\u0dc2\\u0db1 \\u0dbb\\u0ddd\\u0dc4\\u0dbd\\u0dda \\u0dc4\\u0daf\\u0dd2\\u0dc3\\u0dd2 \\u0d85\\u0db1\\u0dad\\u0dd4\\u0dbb\\u0dd4 \\u0d92\\u0d9a\\u0d9a\\u0dba\\u0dda \\u0dc0\\u0ddb\\u0daf\\u0dca\\u200d\\u0dba \\u0db4\\u0dcf\\u0dbd\\u0dd2\\u0dad \\u0dbb\\u0dcf\\u0da2\\u0db4\\u0d9a\\u0dca\\u0dc2 \\u0db8\\u0dc4\\u0dad\\u0dcf\\u0d9c\\u0dd9\\u0db1\\u0dca \\u0d9a\\u0dc5 \\u0dc0\\u0dd2\\u0db8\\u0dc3\\u0dd3\\u0db8\\u0d9a\\u0daf\\u0dd3 \\u0d94\\u0dc4\\u0dd4 \\u0db4\\u0dc0\\u0dc3\\u0dcf \\u0dc3\\u0dd2\\u0da7\\u0dd2\\u0dba\\u0dda \\u0dbb\\u0dcf\\u0dad\\u0dca\\u200d\\u0dbb\\u0dd3 \\u0d85\\u0da7\\u0dc4\\u0db8\\u0dcf\\u0dbb \\u0db1\\u0dc0\\u0dba \\u0db4\\u0db8\\u0dab \\u0dc0\\u0db1\\u0dc0\\u0dd2\\u0da7 \\u0dc1\\u0dbb\\u0dd3\\u0dbb\\u0dba\\u0dda \\u0dc0\\u0dd2\\u0dc1\\u0dcf\\u0dbd \\u0dad\\u0dd4\\u0dc0\\u0dcf\\u0dbd \\u0db4\\u0dca\\u200d\\u0dbb\\u0db8\\u0dcf\\u0dab\\u0dba\\u0d9a\\u0dca \\u0dc3\\u0dc4\\u0dd2\\u0dad\\u0dc0 \\u0d85\\u0db1\\u0dad\\u0dd4\\u0dbb\\u0d9a\\u0da7 \\u0dbd\\u0d9a\\u0dca\\u0dc0\\u0dd6 \\u0dad\\u0dbb\\u0dd4\\u0dab\\u0dba\\u0dd2\\u0db1\\u0dca \\u0daf\\u0dd9\\u0daf\\u0dd9\\u0db1\\u0dd9\\u0d9a\\u0dd4 \\u0db4\\u0dca\\u200d\\u0dbb\\u0dad\\u0dd2\\u0d9a\\u0dcf\\u0dbb \\u0dc3\\u0db3\\u0dc4\\u0dcf \\u0dc4\\u0daf\\u0dd2\\u0dc3\\u0dd2 \\u0d85\\u0db1\\u0dad\\u0dd4\\u0dbb\\u0dd4 \\u0d92\\u0d9a\\u0d9a\\u0dba\\u0da7 \\u0d87\\u0dad\\u0dd4\\u0dc5\\u0dad\\u0dca \\u0d9a\\u0dc5 \\u0db6\\u0dc0\\u0dad\\u0dca, \\u0d89\\u0db1\\u0dca \\u0d91\\u0d9a\\u0dca \\u0d85\\u0dba\\u0d9a\\u0dd4\\u0d9c\\u0dda \\u0dad\\u0dad\\u0dca\\u0dad\\u0dca\\u0dc0\\u0dba \\u0db6\\u0dbb\\u0db4\\u0dad\\u0dc5 \\u0db6\\u0dc0\\u0dad\\u0dca \\u0dc3\\u0db3\\u0dc4\\u0db1\\u0dca \\u0d9a\\u0dc5\\u0dda\\u0dba. \\u0db8\\u0da9\\u0ddc\\u0dbd\\u0dca\\u0dc3\\u0dd2\\u0db8 \\u0db4\\u0ddc\\u0dbd\\u0dd2\\u0dc3\\u0dd2\\u0dba \\u0dc0\\u0dd2\\u0dc3\\u0dd2\\u0db1\\u0dca \\u0db8\\u0dda \\u0db4\\u0dd2\\u0dc5\\u0dd2\\u0db6\\u0db3\\u0dc0 \\u0dc0\\u0dd0\\u0da9\\u0dd2\\u0daf\\u0dd4\\u0dbb \\u0dc0\\u0dd2\\u0db8\\u0dbb\\u0dca\\u0dc1\\u0db1 \\u0dc3\\u0dd2\\u0daf\\u0dd4 \\u0d9a\\u0dbb\\u0dad\\u0dd2.\\n\\n\\u0db6\\u0daf\\u0dd4\\u0dbd\\u0dca\\u0dbd \\u0db1\\u0dd2\\u0dc1\\u0dcf\\u0db1\\u0dca\\u0dad \\u0d85\\u0db6\\u0dda\\u0d9c\\u0dd4\\u0dab\\u0dc0\\u0dbb\\u0dca\\u0db0\\u0db1\"\n        ],\n        \"semantic_type\": \"\",\n        \"description\": \"\"\n      }\n    },\n    {\n      \"column\": \"Source\",\n      \"properties\": {\n        \"dtype\": \"category\",\n        \"num_unique_values\": 10,\n        \"samples\": [\n          \"www.vikalpa.org\",\n          \"https://sinhala.news.lk\",\n          \"divaina\"\n        ],\n        \"semantic_type\": \"\",\n        \"description\": \"\"\n      }\n    }\n  ]\n}"
            }
          },
          "metadata": {},
          "execution_count": 4
        }
      ]
    },
    {
      "cell_type": "code",
      "source": [
        "#Preprocess using sinling\n",
        "tok  = SinhalaTokenizer()\n",
        "stem = SinhalaStemmer()\n",
        "\n",
        "df_train['content'] = df_train['News Content'].astype(str)\n",
        "df_test ['content'] = df_test ['News Content'].astype(str)\n",
        "\n",
        "SINHALA_STOPWORDS = set([\n",
        "    \"අ\", \"ආ\", \"ඉ\", \"ඊ\", \"උ\", \"ඌ\", \"ඍ\", \"ඎ\", \"එ\", \"ඒ\", \"ඔ\", \"ඕ\", \"ඓ\", \"ඖ\", \"අං\", \"අඃ\",\"ක\", \"ඛ\", \"ග\", \"ඝ\", \"ඞ\",\n",
        "    \"ච\", \"ඡ\", \"ජ\", \"ඣ\", \"ඤ\",\n",
        "    \"ට\", \"ඨ\", \"ඩ\", \"ඪ\", \"ණ\",\n",
        "    \"ත\", \"ථ\", \"ද\", \"ධ\", \"න\",\n",
        "    \"ප\", \"ඵ\", \"බ\", \"භ\", \"ම\",\n",
        "    \"ය\", \"ර\", \"ල\", \"ව\",\n",
        "    \"ශ\", \"ෂ\", \"ස\", \"හ\", \"ළ\", \"ෆ\"\n",
        "])\n",
        "\n",
        "def preprocess(doc):\n",
        "    tokens = []\n",
        "    for sent in tok.split_sentences(str(doc)):\n",
        "        for w in tok.tokenize(sent):\n",
        "            if len(w) > 1 and w not in SINHALA_STOPWORDS:\n",
        "                tokens.append(stem.stem(w))\n",
        "    return tokens\n",
        "\n",
        "# Apply to both sets (you’ll train on df_train, later infer on df_test)\n",
        "df_train['tokens'] = df_train['content'].map(preprocess)\n",
        "df_test ['tokens'] = df_test ['content'].map(preprocess)\n",
        "\n",
        "print(\"Train tokens, first doc:\", df_train['tokens'].iloc[0])\n",
        "print(\"Type of each token:\", [type(t) for t in df_train['tokens'].iloc[0][:5]])"
      ],
      "metadata": {
        "colab": {
          "base_uri": "https://localhost:8080/"
        },
        "id": "SSewahUB1tIt",
        "outputId": "d4b3d8d0-4a4c-4f34-bf73-a64516587cfa"
      },
      "execution_count": 12,
      "outputs": [
        {
          "output_type": "stream",
          "name": "stdout",
          "text": [
            "Train tokens, first doc: [('වැල්ල', 'ව'), ('ලුණුකඩවැල්', 'ල'), ('ප්\\u200dරදේශ', 'යේදී'), ('ත්\\u200dරීරෝ', 'ද'), ('රථ', 'යක්'), ('ජ', 'ල'), ('පහර', 'කට'), ('හස', 'ුව'), ('ගසාගෙ', 'න'), ('ගොස', '්'), ('අතුරුදන්', 'ව'), ('තිබ', 'ේ'), ('ලුණුකඩවැල්', 'ල'), ('දැදුර', 'ු'), ('ඔ', 'ය'), ('සපත්ත', 'ු'), ('පාළ', 'ම'), ('මත', 'ින්'), ('ත්\\u200dරීරෝ', 'ද'), ('රථ', 'ය'), ('ගම', 'න්'), ('කර', 'මින්'), ('තිබියද', 'ී'), ('ජ', 'ල'), ('පහර', 'ට'), ('හස', 'ුව'), ('ඇ', 'ති'), ('බ', 'ව'), ('පොලීස', 'ිය'), ('පැවසුවේ', 'ය'), ('කාන්තා', 'වක්'), ('ඇතුළ', 'ු'), ('සි', 'ව්'), ('දෙන', 'ෙකු'), ('ත්\\u200dරීරෝ', 'ද'), ('රථ', 'යේ'), ('ගම', 'න්'), ('කර', ''), ('ඇ', 'ති'), ('අතර', ''), ('කාන්තා', 'වක'), ('හ', 'ා'), ('ත', 'වත්'), ('පුද්ගල', 'යෙකු'), ('දිවි', ''), ('බේරාගෙ', 'න'), ('තිබ', 'ේ'), ('පොලීස', 'ිය'), ('හ', 'ා'), ('ප්\\u200dරදේශවාසී', 'න්'), ('එක්', 'ව'), ('අතුරුද', 'න්'), ('ව', 'ූ'), ('ත්\\u200dරීරෝ', 'ද'), ('රථ', 'ය'), ('හ', 'ා'), ('අන', 'ෙක්'), ('පුද්ගලය', 'ින්'), ('දෙදෙ', 'නා'), ('සෙව', 'ීමේ'), ('කටයුත', 'ු'), ('සිදුකර', 'න'), ('බ', 'ව'), ('සඳහන්', 'ය')]\n",
            "Type of each token: [<class 'tuple'>, <class 'tuple'>, <class 'tuple'>, <class 'tuple'>, <class 'tuple'>]\n"
          ]
        }
      ]
    },
    {
      "cell_type": "code",
      "source": [
        "from itertools import chain\n",
        "from gensim import corpora\n",
        "\n",
        "def flatten_and_extract(doc):\n",
        "    flat = list(chain.from_iterable(doc)) if any(isinstance(el, list) for el in doc) else doc\n",
        "    return [ token if isinstance(token, str) else token[0] for token in flat ]\n",
        "\n",
        "df_train['clean_tokens'] = df_train['tokens'].apply(flatten_and_extract)"
      ],
      "metadata": {
        "id": "wgkOvKZu2-2t"
      },
      "execution_count": 13,
      "outputs": []
    },
    {
      "cell_type": "code",
      "source": [
        "texts      = df_train['clean_tokens'].tolist()\n",
        "dictionary = corpora.Dictionary(texts)\n",
        "print(\"Number of unique tokens:\", len(dictionary))\n",
        "print(\"First 10 token→id mappings:\", list(dictionary.token2id.items())[:10])"
      ],
      "metadata": {
        "colab": {
          "base_uri": "https://localhost:8080/"
        },
        "id": "XM1YaWAy8Rl2",
        "outputId": "0b7c8234-2e1a-4569-f9c1-fa5d8008c25e"
      },
      "execution_count": 14,
      "outputs": [
        {
          "output_type": "stream",
          "name": "stdout",
          "text": [
            "Number of unique tokens: 316762\n",
            "First 10 token→id mappings: [('අතර', 0), ('අතුරුද', 1), ('අතුරුදන්', 2), ('අන', 3), ('ඇ', 4), ('ඇතුළ', 5), ('එක්', 6), ('ඔ', 7), ('කටයුත', 8), ('කර', 9)]\n"
          ]
        }
      ]
    },
    {
      "cell_type": "code",
      "source": [
        "dictionary.filter_extremes(no_below=10, no_above=0.3, keep_n=10000)\n",
        "# Check again\n",
        "print(\"After filtering, vocab size:\", len(dictionary))"
      ],
      "metadata": {
        "colab": {
          "base_uri": "https://localhost:8080/"
        },
        "id": "QeMu_3nc8TmV",
        "outputId": "0e1870d3-47ed-40f9-9d26-96e507e8b3aa"
      },
      "execution_count": 15,
      "outputs": [
        {
          "output_type": "stream",
          "name": "stdout",
          "text": [
            "After filtering, vocab size: 10000\n"
          ]
        }
      ]
    },
    {
      "cell_type": "code",
      "source": [
        "# Spot-check a token that used to be common:\n",
        "for tok_str in [\"හ\", \"කොවිඩ්\", \"ක්‍රීඩා\"]:\n",
        "    print(f\" '{tok_str}' in dictionary?\", tok_str in dictionary.token2id)\n",
        "train_corpus = [dictionary.doc2bow(text) for text in texts]\n",
        "print(\"First doc bow (token_id, count):\", train_corpus[0][:10])\n",
        "print(\"Unique tokens in doc 0:\", len(train_corpus[0]))"
      ],
      "metadata": {
        "colab": {
          "base_uri": "https://localhost:8080/"
        },
        "id": "HxULeddi8XfE",
        "outputId": "fd435b1c-1805-42ec-a58c-b8d97e6226ff"
      },
      "execution_count": 16,
      "outputs": [
        {
          "output_type": "stream",
          "name": "stdout",
          "text": [
            " 'හ' in dictionary? False\n",
            " 'කොවිඩ්' in dictionary? False\n",
            " 'ක්‍රීඩා' in dictionary? True\n",
            "First doc bow (token_id, count): [(0, 1), (1, 1), (2, 1), (3, 1), (4, 1), (5, 2), (6, 2), (7, 1), (8, 1), (9, 2)]\n",
            "Unique tokens in doc 0: 33\n"
          ]
        }
      ]
    },
    {
      "cell_type": "code",
      "source": [
        "from gensim.models import LdaModel\n",
        "\n",
        "lda = LdaModel(\n",
        "    corpus=train_corpus,\n",
        "    id2word=dictionary,\n",
        "    num_topics=6,\n",
        "    passes=15,\n",
        "    random_state=42\n",
        ")\n",
        "\n",
        "# Print top words per topic\n",
        "for idx, topic in lda.show_topics(num_words=8, formatted=False):\n",
        "    words = \", \".join(w for w,_ in topic)\n",
        "    print(f\"Topic {idx:>2d}: {words}\")\n"
      ],
      "metadata": {
        "colab": {
          "base_uri": "https://localhost:8080/"
        },
        "id": "UH_zDOZb2ocm",
        "outputId": "808d892f-51e0-414b-eac7-48a64de345ab"
      },
      "execution_count": 17,
      "outputs": [
        {
          "output_type": "stream",
          "name": "stdout",
          "text": [
            "Topic  0: ම, කිය, අපි, අප, වෙ, තම, නැහැ, ඔ\n",
            "Topic  1: තිබෙ, මුදල, රජ, රුපියල, තුළ, හැ, පමණ, ආර්ථික\n",
            "Topic  2: රට, තුළ, අප, යුත, ආණ්ඩ, දේශපාල, හැ, ඔව\n",
            "Topic  3: ඉන්දියා, දෙමළ, ශ්‍ර, අපි, ම, කඳුකර, ස, කිය\n",
            "Topic  4: පොලිස, අත්අඩංගු, ප්‍රදේශ, ගෙ, මරණ, අධිකරණ, පරීක්ෂණ, අනතුර\n",
            "Topic  5: ශ්‍ර, ලං, ජනාධිප, කණ්ඩාය, පාර්ලිමේන්ත, ජාතික, තරග, ප්‍රකාශ\n"
          ]
        }
      ]
    },
    {
      "cell_type": "code",
      "source": [
        "HUMAN_LABELS = {\n",
        "    0: \"සාමාන්‍ය පුවත්\",\n",
        "    1: \"ආර්ථික පුවත්\",\n",
        "    2: \"දේශපාලන පුවත්\",\n",
        "    3: \"විදේශ පුවත්\",\n",
        "    4: \"අපරාධ පුවත්\",\n",
        "    5: \"ක්‍රීඩා පුවත්\",\n",
        "}"
      ],
      "metadata": {
        "id": "qWZHziKoC5i0"
      },
      "execution_count": 22,
      "outputs": []
    },
    {
      "cell_type": "code",
      "source": [
        "from itertools import chain\n",
        "\n",
        "def flatten_and_extract(doc):\n",
        "    \"\"\"\n",
        "    - If `doc` is a list of lists, flattens one level\n",
        "    - Then for each element:\n",
        "       • if it's a (word, tag) tuple → take word\n",
        "       • else assume it’s already a string → keep it\n",
        "    \"\"\"\n",
        "    # flatten one level if needed\n",
        "    flat = list(chain.from_iterable(doc)) if any(isinstance(el, list) for el in doc) else doc\n",
        "    # extract just the word text\n",
        "    return [ token if isinstance(token, str) else token[0] for token in flat ]\n",
        "\n",
        "def infer_topic_py(text, top_n=3):\n",
        "    # 1. preprocess → might still give you tuples if you ever switch to a POS‐tagger\n",
        "    raw = preprocess(text)\n",
        "    # 2. clean it into pure strings\n",
        "    toks = flatten_and_extract(raw)\n",
        "    # 3. bag of words\n",
        "    bow  = dictionary.doc2bow(toks)\n",
        "    # 4. infer and sort\n",
        "    topics = sorted(lda.get_document_topics(bow), key=lambda x: -x[1])\n",
        "    return topics[:top_n]\n",
        "\n",
        "# === Test it ===\n",
        "sample = \"අද කොළඹදී ක්‍රීඩා උළෙලක් පැවැත්වෙයි\"\n",
        "print(\"Raw preprocess:\", preprocess(sample))\n",
        "print(\"Flattened tokens:\", flatten_and_extract(preprocess(sample)))\n",
        "print(\"Inference result:\", infer_topic_py(sample))\n"
      ],
      "metadata": {
        "colab": {
          "base_uri": "https://localhost:8080/"
        },
        "id": "G39nSMfx81YW",
        "outputId": "db7120c5-4569-45fd-ebff-78c9c5a7bbaf"
      },
      "execution_count": 20,
      "outputs": [
        {
          "output_type": "stream",
          "name": "stdout",
          "text": [
            "Raw preprocess: [('අ', 'ද'), ('කොළඹද', 'ී'), ('ක්\\u200dරීඩ', 'ා'), ('උළෙල', 'ක්'), ('පැවැත්වෙ', 'යි')]\n",
            "Flattened tokens: ['අ', 'කොළඹද', 'ක්\\u200dරීඩ', 'උළෙල', 'පැවැත්වෙ']\n",
            "Inference result: [(5, 0.8332567), (0, 0.033369098), (2, 0.03334643)]\n"
          ]
        }
      ]
    },
    {
      "cell_type": "code",
      "source": [
        "dictionary.save(\"/content/drive/MyDrive/NLP-Assignment/Outputs/dictionary.dict\")\n",
        "lda.save(\"/content/drive/MyDrive/NLP-Assignment/Outputs/model.lda\")\n"
      ],
      "metadata": {
        "id": "-s3kdLRw9pSO"
      },
      "execution_count": 21,
      "outputs": []
    },
    {
      "cell_type": "code",
      "source": [
        "with open(\"/content/drive/MyDrive/NLP-Assignment/Outputs/labels.json\", \"w\", encoding=\"utf-8\") as f:\n",
        "    json.dump(HUMAN_LABELS, f, ensure_ascii=False, indent=2)\n"
      ],
      "metadata": {
        "id": "FJtOq5EVDG41"
      },
      "execution_count": 23,
      "outputs": []
    }
  ]
}